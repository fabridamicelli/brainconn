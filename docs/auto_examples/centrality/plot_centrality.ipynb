{
  "cells": [
    {
      "cell_type": "code",
      "execution_count": null,
      "metadata": {
        "collapsed": false
      },
      "outputs": [],
      "source": [
        "%matplotlib inline"
      ]
    },
    {
      "cell_type": "markdown",
      "metadata": {},
      "source": [
        "\n\n#  Calculate centrality measures\n\n\nCentrality is a thing with stuff and things.\n\n\n"
      ]
    },
    {
      "cell_type": "code",
      "execution_count": null,
      "metadata": {
        "collapsed": false
      },
      "outputs": [],
      "source": [
        "# sphinx_gallery_thumbnail_number = 3"
      ]
    },
    {
      "cell_type": "markdown",
      "metadata": {},
      "source": [
        "Start with the necessary imports\n--------------------------------\n\n"
      ]
    },
    {
      "cell_type": "code",
      "execution_count": null,
      "metadata": {
        "collapsed": false
      },
      "outputs": [],
      "source": [
        "import os.path as op\n\nimport numpy as np\nimport seaborn as sns\nimport matplotlib.pyplot as plt\n\nimport brainconn"
      ]
    },
    {
      "cell_type": "markdown",
      "metadata": {},
      "source": [
        "Get some data\n--------------------------------\n\n"
      ]
    },
    {
      "cell_type": "code",
      "execution_count": null,
      "metadata": {
        "collapsed": false
      },
      "outputs": [],
      "source": [
        "corr = np.loadtxt(op.join(brainconn.utils.get_resource_path(), 'example_corr.txt'))\n\n# Zero diagonal\nadj_wei = corr - np.eye(corr.shape[0])\nadj_bin = brainconn.utils.binarize(brainconn.utils.threshold_proportional(adj_wei, 0.2))"
      ]
    },
    {
      "cell_type": "markdown",
      "metadata": {},
      "source": [
        "Look at weighted adjacency matrix\n-------------------------------------------\n\n"
      ]
    },
    {
      "cell_type": "code",
      "execution_count": null,
      "metadata": {
        "collapsed": false
      },
      "outputs": [],
      "source": [
        "fig, ax = plt.subplots(figsize=(7, 7))\nax.imshow(adj_wei)\nfig.show()"
      ]
    },
    {
      "cell_type": "markdown",
      "metadata": {},
      "source": [
        "Look at binary adjacency matrix\n-------------------------------------------\n\n"
      ]
    },
    {
      "cell_type": "code",
      "execution_count": null,
      "metadata": {
        "collapsed": false
      },
      "outputs": [],
      "source": [
        "fig, ax = plt.subplots(figsize=(7, 7))\nax.imshow(adj_bin)\nfig.show()"
      ]
    },
    {
      "cell_type": "markdown",
      "metadata": {},
      "source": [
        "Compute stuff\n-------------------------------------------\n\n"
      ]
    },
    {
      "cell_type": "code",
      "execution_count": null,
      "metadata": {
        "collapsed": false
      },
      "outputs": [],
      "source": [
        "betw_wei = brainconn.centrality.betweenness_wei(adj_wei)\nbetw_bin = brainconn.centrality.betweenness_bin(adj_bin)\nedg_betw_wei = brainconn.centrality.edge_betweenness_wei(adj_wei)[0]\nidx = np.triu_indices(edg_betw_wei.shape[0], k=1)\nedg_betw_wei = edg_betw_wei[idx]\nedg_betw_wei = edg_betw_wei[edg_betw_wei > 0]\nedg_betw_bin = brainconn.centrality.edge_betweenness_bin(adj_bin)[0]\nidx = np.triu_indices(edg_betw_bin.shape[0], k=1)\nedg_betw_bin = edg_betw_bin[idx]\nedg_betw_bin = edg_betw_bin[edg_betw_bin > 0]\n\nvals = [betw_wei, betw_bin, edg_betw_wei, edg_betw_bin]\nnames = ['Weighted Node Betweenness Centrality',\n         'Binary Node Betweenness Centrality',\n         'Weighted Edge Betweenness Centrality',\n         'Binary Edge Betweenness Centrality']\nfig, axes = plt.subplots(nrows=4, figsize=(12, 7))\nfor i in range(4):\n    sns.distplot(vals[i], ax=axes[i])\n    axes[i].set_title(names[i])\nfig.tight_layout()\nfig.show()"
      ]
    }
  ],
  "metadata": {
    "kernelspec": {
      "display_name": "Python 3",
      "language": "python",
      "name": "python3"
    },
    "language_info": {
      "codemirror_mode": {
        "name": "ipython",
        "version": 3
      },
      "file_extension": ".py",
      "mimetype": "text/x-python",
      "name": "python",
      "nbconvert_exporter": "python",
      "pygments_lexer": "ipython3",
      "version": "3.6.4"
    }
  },
  "nbformat": 4,
  "nbformat_minor": 0
}