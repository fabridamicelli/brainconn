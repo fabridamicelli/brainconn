{
  "cells": [
    {
      "cell_type": "code",
      "execution_count": null,
      "metadata": {
        "collapsed": false
      },
      "outputs": [],
      "source": [
        "%matplotlib inline"
      ]
    },
    {
      "cell_type": "markdown",
      "metadata": {},
      "source": [
        "\n\n#  Calculate degree measures\n\n\nDegree is another thing with stuff and things.\n\n\n"
      ]
    },
    {
      "cell_type": "code",
      "execution_count": null,
      "metadata": {
        "collapsed": false
      },
      "outputs": [],
      "source": [
        "# sphinx_gallery_thumbnail_number = 5"
      ]
    },
    {
      "cell_type": "markdown",
      "metadata": {},
      "source": [
        "Start with the necessary imports\n--------------------------------\n\n"
      ]
    },
    {
      "cell_type": "code",
      "execution_count": null,
      "metadata": {
        "collapsed": false
      },
      "outputs": [],
      "source": [
        "import os.path as op\n\nimport numpy as np\nimport seaborn as sns\nimport matplotlib.pyplot as plt\n\nfrom brainconn import degree, utils"
      ]
    },
    {
      "cell_type": "markdown",
      "metadata": {},
      "source": [
        "Get some data\n--------------------------------\n\n"
      ]
    },
    {
      "cell_type": "code",
      "execution_count": null,
      "metadata": {
        "collapsed": false
      },
      "outputs": [],
      "source": [
        "corr = np.loadtxt(op.join(utils.get_resource_path(), 'example_corr.txt'))\n\n# Zero diagonal\nadj_wei = corr - np.eye(corr.shape[0])\nadj_wei_dir = adj_wei + (np.triu(adj_wei) / 2)\nadj_bin = utils.binarize(utils.threshold_proportional(adj_wei, 0.2))\nadj_bin_dir = utils.binarize(utils.threshold_proportional(adj_wei_dir, 0.2))"
      ]
    },
    {
      "cell_type": "markdown",
      "metadata": {},
      "source": [
        "Look at weighted undirected adjacency matrix\n---------------------------------------------\n\n"
      ]
    },
    {
      "cell_type": "code",
      "execution_count": null,
      "metadata": {
        "collapsed": false
      },
      "outputs": [],
      "source": [
        "fig, ax = plt.subplots(figsize=(7, 7))\nax.imshow(adj_wei)\nfig.show()"
      ]
    },
    {
      "cell_type": "markdown",
      "metadata": {},
      "source": [
        "Look at binary undirected adjacency matrix\n-------------------------------------------\n\n"
      ]
    },
    {
      "cell_type": "code",
      "execution_count": null,
      "metadata": {
        "collapsed": false
      },
      "outputs": [],
      "source": [
        "fig, ax = plt.subplots(figsize=(7, 7))\nax.imshow(adj_bin)\nfig.show()"
      ]
    },
    {
      "cell_type": "markdown",
      "metadata": {},
      "source": [
        "Look at weighted directed adjacency matrix\n-------------------------------------------\n\n"
      ]
    },
    {
      "cell_type": "code",
      "execution_count": null,
      "metadata": {
        "collapsed": false
      },
      "outputs": [],
      "source": [
        "fig, ax = plt.subplots(figsize=(7, 7))\nax.imshow(adj_wei_dir)\nfig.show()"
      ]
    },
    {
      "cell_type": "markdown",
      "metadata": {},
      "source": [
        "Look at binary directed adjacency matrix\n-------------------------------------------\n\n"
      ]
    },
    {
      "cell_type": "code",
      "execution_count": null,
      "metadata": {
        "collapsed": false
      },
      "outputs": [],
      "source": [
        "fig, ax = plt.subplots(figsize=(7, 7))\nax.imshow(adj_bin_dir)\nfig.show()"
      ]
    },
    {
      "cell_type": "markdown",
      "metadata": {},
      "source": [
        "Compute stuff\n-------------------------------------------\n\n"
      ]
    },
    {
      "cell_type": "code",
      "execution_count": null,
      "metadata": {
        "collapsed": false
      },
      "outputs": [],
      "source": [
        "degr_und = degree.degrees_und(adj_bin)\n_, _, degr_dir = degree.degrees_dir(adj_bin_dir)\njdeg_bin, _, _, _ = degree.jdegree(adj_bin_dir)\nstre_und = degree.strengths_und(adj_wei)\n_, stre_und_neg, _, _ = degree.strengths_und_sign(adj_wei)\nstre_dir = degree.strengths_dir(adj_wei_dir)\njdeg_wei, _, _, _ = degree.jdegree(adj_wei_dir)\njdeg_bin = jdeg_bin[jdeg_bin > 0]\njdeg_wei = jdeg_wei[jdeg_wei > 0]\n\nvals = [degr_und, degr_dir, jdeg_bin, stre_und, stre_und_neg, stre_dir,\n        jdeg_wei]\nnames = ['Undirected Degree',\n         'Directed Degree',\n         'Joint Binary Degree',\n         'Undirected Unsigned Strength',\n         'Undirected Signed Strength',\n         'Directed Unsigned Strength',\n         'Joint Weighted Degree']\nfig, axes = plt.subplots(nrows=len(names), figsize=(12, 2*len(names)))\nfor i in range(len(names)):\n    sns.distplot(vals[i], ax=axes[i])\n    axes[i].set_title(names[i])\nfig.tight_layout()\nfig.show()"
      ]
    }
  ],
  "metadata": {
    "kernelspec": {
      "display_name": "Python 3",
      "language": "python",
      "name": "python3"
    },
    "language_info": {
      "codemirror_mode": {
        "name": "ipython",
        "version": 3
      },
      "file_extension": ".py",
      "mimetype": "text/x-python",
      "name": "python",
      "nbconvert_exporter": "python",
      "pygments_lexer": "ipython3",
      "version": "3.6.4"
    }
  },
  "nbformat": 4,
  "nbformat_minor": 0
}